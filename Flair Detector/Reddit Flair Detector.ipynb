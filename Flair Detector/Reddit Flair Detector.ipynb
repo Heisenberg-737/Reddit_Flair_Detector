{
 "cells": [
  {
   "cell_type": "code",
   "execution_count": 1,
   "metadata": {},
   "outputs": [],
   "source": [
    "import json\n",
    "import pandas as pd\n",
    "import datetime as dt\n",
    "from sklearn.metrics import classification_report\n",
    "from sklearn.metrics import accuracy_score, confusion_matrix\n",
    "from sklearn.model_selection import train_test_split\n",
    "from sklearn.pipeline import Pipeline\n",
    "from sklearn.feature_extraction.text import CountVectorizer, TfidfVectorizer\n",
    "from sklearn.feature_extraction.text import TfidfTransformer"
   ]
  },
  {
   "cell_type": "code",
   "execution_count": 2,
   "metadata": {},
   "outputs": [],
   "source": [
    "with open('webpage1.json') as f:\n",
    "    data = json.load(f)\n",
    "    \n",
    "def get_date(created):\n",
    "    return dt.datetime.fromtimestamp(created)\n",
    "\n",
    "to_store = { \"flair\":[], \"score\":[], \"url\":[], \"title\":[], \"created\":[] }\n",
    "\n",
    "flairs = [  \"Coronavirus\", \"Politics\", \"Policy/Economy\", \"AskIndia\", \"Science/Technology\",\n",
    "           \"Non-Political\" , \"Business/Finance\"]\n",
    "\n",
    "for subreddit in data.values():\n",
    "    for post in subreddit:\n",
    "        for flare,flare_name in post.items():\n",
    "            for flair in flairs:\n",
    "                if flare_name == flair:\n",
    "                    to_store[\"flair\"].append(post['link_flair_text'])\n",
    "                    to_store[\"score\"].append(post['score'])\n",
    "                    to_store[\"url\"].append(post['url'])\n",
    "                    to_store[\"title\"].append(post['title'])\n",
    "                    to_store[\"created\"].append(post['created_utc'])\n",
    "                    \n",
    "data_tab = pd.DataFrame(to_store)\n",
    "data_tab\n",
    "\n",
    "_timestamp = data_tab[\"created\"].apply(get_date)\n",
    "data_tab = data_tab.assign(timestamp = _timestamp)\n",
    "\n",
    "data_tab.to_csv('Reddit_Data.csv', index=False)\n",
    "\n",
    "data_tab = pd.read_csv('Reddit_Data.csv')"
   ]
  },
  {
   "cell_type": "code",
   "execution_count": 3,
   "metadata": {},
   "outputs": [],
   "source": [
    "#Naive Byes Classifier\n",
    "def nb_classifier(x_train, x_test, y_train, y_test):\n",
    "  \n",
    "    from sklearn.naive_bayes import MultinomialNB\n",
    "\n",
    "    nb = Pipeline([('vect', CountVectorizer()),\n",
    "                 ('tfidf', TfidfTransformer()),\n",
    "                 ('clf', MultinomialNB())])\n",
    "    nb.fit(x_train, y_train)\n",
    "    y_pred = nb.predict(x_test)\n",
    "\n",
    "    print('accuracy %s' % accuracy_score(y_pred, y_test))\n",
    "    print(classification_report(y_test, y_pred,target_names=flairs))"
   ]
  },
  {
   "cell_type": "code",
   "execution_count": 4,
   "metadata": {},
   "outputs": [],
   "source": [
    "#Logistic Regression\n",
    "def logisticreg(X_train, X_test, y_train, y_test):\n",
    "    from sklearn.linear_model import LogisticRegression\n",
    "\n",
    "    logreg = Pipeline([('vect', CountVectorizer()),\n",
    "                  ('tfidf', TfidfTransformer()),\n",
    "                  ('clf', LogisticRegression(n_jobs=1, C=1e5))])\n",
    "    \n",
    "    logreg.fit(X_train, y_train)\n",
    "\n",
    "    y_pred = logreg.predict(X_test)\n",
    "\n",
    "    print('accuracy %s' % accuracy_score(y_pred, y_test))\n",
    "    print(classification_report(y_test, y_pred,target_names=flairs))"
   ]
  },
  {
   "cell_type": "code",
   "execution_count": 5,
   "metadata": {},
   "outputs": [],
   "source": [
    "#Linear SVM\n",
    "def linear_svm(X_train, X_test, y_train, y_test): \n",
    "    from sklearn.linear_model import SGDClassifier\n",
    "\n",
    "    sgd = Pipeline([('vect', CountVectorizer()),\n",
    "                  ('tfidf', TfidfTransformer()),\n",
    "                  ('clf', SGDClassifier(loss='hinge', penalty='l2',alpha=1e-3, random_state=42, max_iter=5, tol=None))])\n",
    "    sgd.fit(X_train, y_train)\n",
    "    y_pred = sgd.predict(X_test)\n",
    "    print('accuracy %s' % accuracy_score(y_pred, y_test))\n",
    "    print(classification_report(y_test, y_pred,target_names=flairs))"
   ]
  },
  {
   "cell_type": "code",
   "execution_count": 6,
   "metadata": {},
   "outputs": [],
   "source": [
    "#Random Forest   \n",
    "def randomforest(X_train, X_test, y_train, y_test):\n",
    "    from sklearn.ensemble import RandomForestClassifier\n",
    "  \n",
    "    ranfor = Pipeline([('vect', CountVectorizer()),\n",
    "                  ('tfidf', TfidfTransformer()),\n",
    "                  ('clf', RandomForestClassifier(n_estimators = 1000, random_state = 42))])\n",
    "    ranfor.fit(X_train, y_train)\n",
    "\n",
    "    y_pred = ranfor.predict(X_test)\n",
    "\n",
    "    print('accuracy %s' % accuracy_score(y_pred, y_test))\n",
    "    print(classification_report(y_test, y_pred,target_names=flairs))"
   ]
  },
  {
   "cell_type": "code",
   "execution_count": 7,
   "metadata": {},
   "outputs": [],
   "source": [
    "#MLP Classifier\n",
    "def mlpclassifier(X_train, X_test, y_train, y_test):\n",
    "    from sklearn.neural_network import MLPClassifier\n",
    "  \n",
    "    mlp = Pipeline([('vect', CountVectorizer()),\n",
    "                  ('tfidf', TfidfTransformer()),\n",
    "                  ('clf', MLPClassifier(hidden_layer_sizes=(30,30,30)))])\n",
    "    mlp.fit(X_train, y_train)\n",
    "\n",
    "    y_pred = mlp.predict(X_test)\n",
    "\n",
    "    print('accuracy %s' % accuracy_score(y_pred, y_test))\n",
    "    print(classification_report(y_test, y_pred,target_names=flairs))"
   ]
  },
  {
   "cell_type": "code",
   "execution_count": 8,
   "metadata": {},
   "outputs": [],
   "source": [
    "#Train Test Varied Data ML Models\n",
    "def train_test(X,y):\n",
    "    X_train, X_test, y_train, y_test = train_test_split(X, y, test_size=0.3, random_state = 42)\n",
    "\n",
    "    print(\"Results of Naive Bayes Classifier\")\n",
    "    nb_classifier(X_train, X_test, y_train, y_test)\n",
    "    print(\"Results of Linear Support Vector Machine\")\n",
    "    linear_svm(X_train, X_test, y_train, y_test)\n",
    "    print(\"Results of Logistic Regression\")\n",
    "    logisticreg(X_train, X_test, y_train, y_test)\n",
    "    print(\"Results of Random Forest\")\n",
    "    randomforest(X_train, X_test, y_train, y_test)\n",
    "    print(\"Results of MLP Classifier\")\n",
    "    mlpclassifier(X_train, X_test, y_train, y_test)"
   ]
  },
  {
   "cell_type": "code",
   "execution_count": 9,
   "metadata": {},
   "outputs": [
    {
     "name": "stdout",
     "output_type": "stream",
     "text": [
      "Results of Naive Bayes Classifier\n",
      "accuracy 0.6554809843400448\n",
      "                    precision    recall  f1-score   support\n",
      "\n",
      "       Coronavirus       0.87      0.59      0.70        68\n",
      "          Politics       0.00      0.00      0.00         8\n",
      "    Policy/Economy       0.58      1.00      0.73       203\n",
      "          AskIndia       1.00      0.48      0.65        93\n",
      "Science/Technology       0.00      0.00      0.00         9\n",
      "     Non-Political       1.00      0.09      0.16        57\n",
      "  Business/Finance       0.00      0.00      0.00         9\n",
      "\n",
      "          accuracy                           0.66       447\n",
      "         macro avg       0.49      0.31      0.32       447\n",
      "      weighted avg       0.73      0.66      0.60       447\n",
      "\n",
      "Results of Linear Support Vector Machine\n",
      "accuracy 0.8120805369127517\n",
      "                    precision    recall  f1-score   support\n",
      "\n",
      "       Coronavirus       0.67      0.90      0.77        68\n",
      "          Politics       0.00      0.00      0.00         8\n",
      "    Policy/Economy       0.83      0.91      0.87       203\n",
      "          AskIndia       0.86      0.83      0.84        93\n",
      "Science/Technology       1.00      0.33      0.50         9\n",
      "     Non-Political       0.95      0.65      0.77        57\n",
      "  Business/Finance       0.00      0.00      0.00         9\n",
      "\n",
      "          accuracy                           0.81       447\n",
      "         macro avg       0.61      0.52      0.54       447\n",
      "      weighted avg       0.80      0.81      0.79       447\n",
      "\n",
      "Results of Logistic Regression\n"
     ]
    },
    {
     "name": "stderr",
     "output_type": "stream",
     "text": [
      "D:\\Software\\Anaconda\\lib\\site-packages\\sklearn\\metrics\\_classification.py:1272: UndefinedMetricWarning: Precision and F-score are ill-defined and being set to 0.0 in labels with no predicted samples. Use `zero_division` parameter to control this behavior.\n",
      "  _warn_prf(average, modifier, msg_start, len(result))\n",
      "D:\\Software\\Anaconda\\lib\\site-packages\\sklearn\\metrics\\_classification.py:1272: UndefinedMetricWarning: Precision and F-score are ill-defined and being set to 0.0 in labels with no predicted samples. Use `zero_division` parameter to control this behavior.\n",
      "  _warn_prf(average, modifier, msg_start, len(result))\n",
      "D:\\Software\\Anaconda\\lib\\site-packages\\sklearn\\linear_model\\_logistic.py:940: ConvergenceWarning: lbfgs failed to converge (status=1):\n",
      "STOP: TOTAL NO. of ITERATIONS REACHED LIMIT.\n",
      "\n",
      "Increase the number of iterations (max_iter) or scale the data as shown in:\n",
      "    https://scikit-learn.org/stable/modules/preprocessing.html\n",
      "Please also refer to the documentation for alternative solver options:\n",
      "    https://scikit-learn.org/stable/modules/linear_model.html#logistic-regression\n",
      "  extra_warning_msg=_LOGISTIC_SOLVER_CONVERGENCE_MSG)\n",
      "D:\\Software\\Anaconda\\lib\\site-packages\\sklearn\\metrics\\_classification.py:1272: UndefinedMetricWarning: Precision and F-score are ill-defined and being set to 0.0 in labels with no predicted samples. Use `zero_division` parameter to control this behavior.\n",
      "  _warn_prf(average, modifier, msg_start, len(result))\n"
     ]
    },
    {
     "name": "stdout",
     "output_type": "stream",
     "text": [
      "accuracy 0.825503355704698\n",
      "                    precision    recall  f1-score   support\n",
      "\n",
      "       Coronavirus       0.69      0.85      0.76        68\n",
      "          Politics       0.00      0.00      0.00         8\n",
      "    Policy/Economy       0.87      0.91      0.89       203\n",
      "          AskIndia       0.82      0.86      0.84        93\n",
      "Science/Technology       1.00      0.44      0.62         9\n",
      "     Non-Political       0.86      0.75      0.80        57\n",
      "  Business/Finance       0.00      0.00      0.00         9\n",
      "\n",
      "          accuracy                           0.83       447\n",
      "         macro avg       0.61      0.55      0.56       447\n",
      "      weighted avg       0.80      0.83      0.81       447\n",
      "\n",
      "Results of Random Forest\n",
      "accuracy 0.8568232662192393\n",
      "                    precision    recall  f1-score   support\n",
      "\n",
      "       Coronavirus       0.83      0.81      0.82        68\n",
      "          Politics       0.00      0.00      0.00         8\n",
      "    Policy/Economy       0.83      0.97      0.89       203\n",
      "          AskIndia       0.87      0.94      0.90        93\n",
      "Science/Technology       1.00      0.22      0.36         9\n",
      "     Non-Political       1.00      0.75      0.86        57\n",
      "  Business/Finance       0.00      0.00      0.00         9\n",
      "\n",
      "          accuracy                           0.86       447\n",
      "         macro avg       0.65      0.53      0.55       447\n",
      "      weighted avg       0.83      0.86      0.83       447\n",
      "\n",
      "Results of MLP Classifier\n"
     ]
    },
    {
     "name": "stderr",
     "output_type": "stream",
     "text": [
      "D:\\Software\\Anaconda\\lib\\site-packages\\sklearn\\metrics\\_classification.py:1272: UndefinedMetricWarning: Precision and F-score are ill-defined and being set to 0.0 in labels with no predicted samples. Use `zero_division` parameter to control this behavior.\n",
      "  _warn_prf(average, modifier, msg_start, len(result))\n"
     ]
    },
    {
     "name": "stdout",
     "output_type": "stream",
     "text": [
      "accuracy 0.814317673378076\n",
      "                    precision    recall  f1-score   support\n",
      "\n",
      "       Coronavirus       0.81      0.85      0.83        68\n",
      "          Politics       0.00      0.00      0.00         8\n",
      "    Policy/Economy       0.86      0.88      0.87       203\n",
      "          AskIndia       0.85      0.83      0.84        93\n",
      "Science/Technology       0.23      0.56      0.32         9\n",
      "     Non-Political       0.88      0.79      0.83        57\n",
      "  Business/Finance       0.00      0.00      0.00         9\n",
      "\n",
      "          accuracy                           0.81       447\n",
      "         macro avg       0.52      0.56      0.53       447\n",
      "      weighted avg       0.80      0.81      0.81       447\n",
      "\n"
     ]
    },
    {
     "name": "stderr",
     "output_type": "stream",
     "text": [
      "D:\\Software\\Anaconda\\lib\\site-packages\\sklearn\\metrics\\_classification.py:1272: UndefinedMetricWarning: Precision and F-score are ill-defined and being set to 0.0 in labels with no predicted samples. Use `zero_division` parameter to control this behavior.\n",
      "  _warn_prf(average, modifier, msg_start, len(result))\n"
     ]
    }
   ],
   "source": [
    "train_test(data_tab.title,data_tab.flair)"
   ]
  }
 ],
 "metadata": {
  "kernelspec": {
   "display_name": "Python 3",
   "language": "python",
   "name": "python3"
  },
  "language_info": {
   "codemirror_mode": {
    "name": "ipython",
    "version": 3
   },
   "file_extension": ".py",
   "mimetype": "text/x-python",
   "name": "python",
   "nbconvert_exporter": "python",
   "pygments_lexer": "ipython3",
   "version": "3.7.6"
  }
 },
 "nbformat": 4,
 "nbformat_minor": 4
}
