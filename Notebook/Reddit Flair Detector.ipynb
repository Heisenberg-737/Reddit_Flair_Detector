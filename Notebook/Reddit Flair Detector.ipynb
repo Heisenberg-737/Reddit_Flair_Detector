{
 "cells": [
  {
   "cell_type": "markdown",
   "metadata": {},
   "source": [
    "# Reddit Flair Detector\n",
    "\n",
    "### Importing Required Modules"
   ]
  },
  {
   "cell_type": "code",
   "execution_count": 1,
   "metadata": {},
   "outputs": [],
   "source": [
    "import json\n",
    "import pandas as pd\n",
    "import datetime as dt"
   ]
  },
  {
   "cell_type": "markdown",
   "metadata": {},
   "source": [
    "### Data Extraction From a .json file, which was created using Pushshift"
   ]
  },
  {
   "cell_type": "code",
   "execution_count": 2,
   "metadata": {},
   "outputs": [],
   "source": [
    "with open('webpage1.json') as f:\n",
    "    data = json.load(f)\n",
    "\n",
    "to_store = { \"flair\":[], \"score\":[], \"url\":[], \"title\":[], \"created\":[] }\n",
    "\n",
    "flairs = [  \"Coronavirus\", \"Politics\", \"Policy/Economy\", \"AskIndia\", \"Science/Technology\",\n",
    "           \"Non-Political\" , \"Business/Finance\"]\n",
    "\n",
    "def get_date(created):\n",
    "    return dt.datetime.fromtimestamp(created)\n",
    "\n",
    "\n",
    "for subreddit in data.values():\n",
    "    for post in subreddit:\n",
    "        for flare,flare_name in post.items():\n",
    "            for flair in flairs:\n",
    "                if flare_name == flair:\n",
    "                    to_store[\"flair\"].append(post['link_flair_text'])\n",
    "                    to_store[\"score\"].append(post['score'])\n",
    "                    to_store[\"url\"].append(post['url'])\n",
    "                    to_store[\"title\"].append(post['title'])\n",
    "                    to_store[\"created\"].append(post['created_utc'])\n",
    "                    \n",
    "data_tab = pd.DataFrame(to_store)\n",
    "\n",
    "_timestamp = data_tab[\"created\"].apply(get_date)\n",
    "data_tab = data_tab.assign(timestamp = _timestamp)\n",
    "\n",
    "data_tab.to_csv('Reddit_Data.csv', index=False)"
   ]
  }
 ],
 "metadata": {
  "kernelspec": {
   "display_name": "Python 3",
   "language": "python",
   "name": "python3"
  },
  "language_info": {
   "codemirror_mode": {
    "name": "ipython",
    "version": 3
   },
   "file_extension": ".py",
   "mimetype": "text/x-python",
   "name": "python",
   "nbconvert_exporter": "python",
   "pygments_lexer": "ipython3",
   "version": "3.7.6"
  }
 },
 "nbformat": 4,
 "nbformat_minor": 4
}
