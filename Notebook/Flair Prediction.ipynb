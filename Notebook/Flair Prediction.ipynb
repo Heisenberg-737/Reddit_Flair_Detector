{
 "cells": [
  {
   "cell_type": "markdown",
   "metadata": {},
   "source": [
    "# Task-3 - Building a Flair Detector\n",
    "\n",
    "### Importing Required Modules"
   ]
  },
  {
   "cell_type": "code",
   "execution_count": 1,
   "metadata": {},
   "outputs": [],
   "source": [
    "import pandas as pd\n",
    "import re\n",
    "from nltk.corpus import stopwords\n",
    "from sklearn.metrics import classification_report\n",
    "from sklearn.metrics import accuracy_score, confusion_matrix\n",
    "from sklearn.model_selection import train_test_split\n",
    "from sklearn.pipeline import Pipeline\n",
    "from sklearn.feature_extraction.text import CountVectorizer, TfidfVectorizer\n",
    "from sklearn.feature_extraction.text import TfidfTransformer"
   ]
  },
  {
   "cell_type": "code",
   "execution_count": 2,
   "metadata": {},
   "outputs": [],
   "source": [
    "REPLACE_BY_SPACE_RE = re.compile('[/(){}\\[\\]\\|@,;]')\n",
    "BAD_SYMBOLS_RE = re.compile('[^0-9a-z #+_]')\n",
    "STOPWORDS = set(stopwords.words('english'))\n",
    "\n",
    "flairs = [  \"Coronavirus\", \"Politics\", \"Policy/Economy\", \"AskIndia\", \"Science/Technology\",\n",
    "            \"Non-Political\" , \"Business/Finance\"]\n",
    "\n",
    "def string_form(value):\n",
    "    return str(value)\n",
    "\n",
    "def clean_text(text):\n",
    "    text = text.lower()\n",
    "    text = REPLACE_BY_SPACE_RE.sub(' ', text)\n",
    "    text = BAD_SYMBOLS_RE.sub('', text)\n",
    "    text = ' '.join(word for word in text.split() if word not in STOPWORDS)\n",
    "    return text\n",
    "\n",
    "data_tab = pd.read_csv('Reddit_Data.csv')"
   ]
  },
  {
   "cell_type": "code",
   "execution_count": 3,
   "metadata": {},
   "outputs": [],
   "source": [
    "#Text Pre-Processing\n",
    "data_tab['title'] = data_tab['title'].apply(string_form)\n",
    "\n",
    "data_tab['title'] = data_tab['title'].apply(clean_text)"
   ]
  },
  {
   "cell_type": "markdown",
   "metadata": {},
   "source": [
    "### Flair Detection using Title as feature"
   ]
  },
  {
   "cell_type": "code",
   "execution_count": 4,
   "metadata": {},
   "outputs": [],
   "source": [
    "y = data_tab.flair\n",
    "X = data_tab.title\n",
    "\n",
    "#Setting training and testing dataset\n",
    "X_train, X_test, y_train, y_test = train_test_split(X, y,test_size=0.1,random_state = 42)"
   ]
  },
  {
   "cell_type": "code",
   "execution_count": 5,
   "metadata": {},
   "outputs": [
    {
     "name": "stdout",
     "output_type": "stream",
     "text": [
      "Results of Naive Bayes Classifier\n",
      "accuracy 0.7315436241610739\n",
      "                    precision    recall  f1-score   support\n",
      "\n",
      "       Coronavirus       1.00      0.55      0.71        20\n",
      "          Politics       0.00      0.00      0.00         1\n",
      "    Policy/Economy       0.63      1.00      0.77        67\n",
      "          AskIndia       1.00      0.76      0.87        38\n",
      "Science/Technology       0.00      0.00      0.00         3\n",
      "     Non-Political       1.00      0.11      0.19        19\n",
      "  Business/Finance       0.00      0.00      0.00         1\n",
      "\n",
      "          accuracy                           0.73       149\n",
      "         macro avg       0.52      0.35      0.36       149\n",
      "      weighted avg       0.80      0.73      0.69       149\n",
      "\n"
     ]
    },
    {
     "name": "stderr",
     "output_type": "stream",
     "text": [
      "D:\\Software\\Anaconda\\lib\\site-packages\\sklearn\\metrics\\_classification.py:1272: UndefinedMetricWarning: Precision and F-score are ill-defined and being set to 0.0 in labels with no predicted samples. Use `zero_division` parameter to control this behavior.\n",
      "  _warn_prf(average, modifier, msg_start, len(result))\n"
     ]
    }
   ],
   "source": [
    "#Naive Byes Classifier\n",
    "from sklearn.naive_bayes import MultinomialNB\n",
    "\n",
    "nb = Pipeline([('vect', CountVectorizer()), ('tfidf', TfidfTransformer()), ('clf', MultinomialNB())])\n",
    "    \n",
    "nb.fit(X_train, y_train)\n",
    "y_pred = nb.predict(X_test)\n",
    "\n",
    "print(\"Results of Naive Bayes Classifier\")\n",
    "print('accuracy %s' % accuracy_score(y_pred, y_test))\n",
    "print(classification_report(y_test, y_pred, target_names=flairs))"
   ]
  },
  {
   "cell_type": "code",
   "execution_count": 6,
   "metadata": {},
   "outputs": [
    {
     "name": "stdout",
     "output_type": "stream",
     "text": [
      "Results of Linear Support Vector Machine\n",
      "accuracy 0.8187919463087249\n",
      "                    precision    recall  f1-score   support\n",
      "\n",
      "       Coronavirus       0.78      0.70      0.74        20\n",
      "          Politics       0.00      0.00      0.00         1\n",
      "    Policy/Economy       0.78      0.96      0.86        67\n",
      "          AskIndia       0.86      0.84      0.85        38\n",
      "Science/Technology       0.00      0.00      0.00         3\n",
      "     Non-Political       1.00      0.63      0.77        19\n",
      "  Business/Finance       0.00      0.00      0.00         1\n",
      "\n",
      "          accuracy                           0.82       149\n",
      "         macro avg       0.49      0.45      0.46       149\n",
      "      weighted avg       0.80      0.82      0.80       149\n",
      "\n"
     ]
    },
    {
     "name": "stderr",
     "output_type": "stream",
     "text": [
      "D:\\Software\\Anaconda\\lib\\site-packages\\sklearn\\metrics\\_classification.py:1272: UndefinedMetricWarning: Precision and F-score are ill-defined and being set to 0.0 in labels with no predicted samples. Use `zero_division` parameter to control this behavior.\n",
      "  _warn_prf(average, modifier, msg_start, len(result))\n"
     ]
    }
   ],
   "source": [
    "#Linear SVM\n",
    "from sklearn.linear_model import SGDClassifier\n",
    "\n",
    "sgd = Pipeline([('vect', CountVectorizer()), ('tfidf', TfidfTransformer()),\n",
    "                ('clf', SGDClassifier(loss='hinge', penalty='l2',alpha=1e-3, random_state=42, max_iter=5, tol=None))])\n",
    "    \n",
    "sgd.fit(X_train, y_train)\n",
    "y_pred = sgd.predict(X_test)\n",
    "    \n",
    "print(\"Results of Linear Support Vector Machine\")\n",
    "print('accuracy %s' % accuracy_score(y_pred, y_test))\n",
    "print(classification_report(y_test, y_pred,target_names=flairs))"
   ]
  },
  {
   "cell_type": "code",
   "execution_count": 7,
   "metadata": {},
   "outputs": [
    {
     "name": "stdout",
     "output_type": "stream",
     "text": [
      "Results of Logistic Regression\n",
      "accuracy 0.8993288590604027\n",
      "                    precision    recall  f1-score   support\n",
      "\n",
      "       Coronavirus       0.79      0.75      0.77        20\n",
      "          Politics       0.00      0.00      0.00         1\n",
      "    Policy/Economy       0.89      0.94      0.91        67\n",
      "          AskIndia       0.92      0.95      0.94        38\n",
      "Science/Technology       1.00      0.33      0.50         3\n",
      "     Non-Political       1.00      1.00      1.00        19\n",
      "  Business/Finance       0.00      0.00      0.00         1\n",
      "\n",
      "          accuracy                           0.90       149\n",
      "         macro avg       0.66      0.57      0.59       149\n",
      "      weighted avg       0.89      0.90      0.89       149\n",
      "\n"
     ]
    },
    {
     "name": "stderr",
     "output_type": "stream",
     "text": [
      "D:\\Software\\Anaconda\\lib\\site-packages\\sklearn\\linear_model\\_logistic.py:940: ConvergenceWarning: lbfgs failed to converge (status=1):\n",
      "STOP: TOTAL NO. of ITERATIONS REACHED LIMIT.\n",
      "\n",
      "Increase the number of iterations (max_iter) or scale the data as shown in:\n",
      "    https://scikit-learn.org/stable/modules/preprocessing.html\n",
      "Please also refer to the documentation for alternative solver options:\n",
      "    https://scikit-learn.org/stable/modules/linear_model.html#logistic-regression\n",
      "  extra_warning_msg=_LOGISTIC_SOLVER_CONVERGENCE_MSG)\n",
      "D:\\Software\\Anaconda\\lib\\site-packages\\sklearn\\metrics\\_classification.py:1272: UndefinedMetricWarning: Precision and F-score are ill-defined and being set to 0.0 in labels with no predicted samples. Use `zero_division` parameter to control this behavior.\n",
      "  _warn_prf(average, modifier, msg_start, len(result))\n"
     ]
    }
   ],
   "source": [
    "#Logistic Regression\n",
    "from sklearn.linear_model import LogisticRegression\n",
    "\n",
    "logreg = Pipeline([('vect', CountVectorizer()), ('tfidf', TfidfTransformer()), \n",
    "                   ('clf', LogisticRegression(n_jobs=1, C=1e5))])\n",
    "    \n",
    "logreg.fit(X_train, y_train)\n",
    "y_pred = logreg.predict(X_test)\n",
    "\n",
    "print(\"Results of Logistic Regression\")\n",
    "print('accuracy %s' % accuracy_score(y_pred, y_test))\n",
    "print(classification_report(y_test, y_pred,target_names=flairs))"
   ]
  },
  {
   "cell_type": "code",
   "execution_count": 8,
   "metadata": {},
   "outputs": [
    {
     "name": "stdout",
     "output_type": "stream",
     "text": [
      "Results of Random Forest\n",
      "accuracy 0.9261744966442953\n",
      "                    precision    recall  f1-score   support\n",
      "\n",
      "       Coronavirus       1.00      0.75      0.86        20\n",
      "          Politics       0.00      0.00      0.00         1\n",
      "    Policy/Economy       0.89      1.00      0.94        67\n",
      "          AskIndia       0.92      0.95      0.94        38\n",
      "Science/Technology       1.00      0.33      0.50         3\n",
      "     Non-Political       1.00      1.00      1.00        19\n",
      "  Business/Finance       0.00      0.00      0.00         1\n",
      "\n",
      "          accuracy                           0.93       149\n",
      "         macro avg       0.69      0.58      0.61       149\n",
      "      weighted avg       0.92      0.93      0.92       149\n",
      "\n"
     ]
    },
    {
     "name": "stderr",
     "output_type": "stream",
     "text": [
      "D:\\Software\\Anaconda\\lib\\site-packages\\sklearn\\metrics\\_classification.py:1272: UndefinedMetricWarning: Precision and F-score are ill-defined and being set to 0.0 in labels with no predicted samples. Use `zero_division` parameter to control this behavior.\n",
      "  _warn_prf(average, modifier, msg_start, len(result))\n"
     ]
    }
   ],
   "source": [
    "#Random Forest\n",
    "from sklearn.ensemble import RandomForestClassifier\n",
    "  \n",
    "ranfor = Pipeline([('vect', CountVectorizer()), ('tfidf', TfidfTransformer()), \n",
    "                   ('clf', RandomForestClassifier(n_estimators = 1000, random_state = 42))])\n",
    "\n",
    "ranfor.fit(X_train, y_train)\n",
    "y_pred = ranfor.predict(X_test)\n",
    "\n",
    "print(\"Results of Random Forest\")\n",
    "print('accuracy %s' % accuracy_score(y_pred, y_test))\n",
    "print(classification_report(y_test, y_pred,target_names=flairs))"
   ]
  },
  {
   "cell_type": "code",
   "execution_count": 9,
   "metadata": {},
   "outputs": [
    {
     "name": "stdout",
     "output_type": "stream",
     "text": [
      "Results of MLP Classifier\n",
      "accuracy 0.87248322147651\n",
      "                    precision    recall  f1-score   support\n",
      "\n",
      "       Coronavirus       0.71      0.75      0.73        20\n",
      "          Politics       0.00      0.00      0.00         1\n",
      "    Policy/Economy       0.88      0.88      0.88        67\n",
      "          AskIndia       0.92      0.95      0.94        38\n",
      "Science/Technology       1.00      0.33      0.50         3\n",
      "     Non-Political       0.90      1.00      0.95        19\n",
      "  Business/Finance       0.00      0.00      0.00         1\n",
      "\n",
      "          accuracy                           0.87       149\n",
      "         macro avg       0.63      0.56      0.57       149\n",
      "      weighted avg       0.86      0.87      0.86       149\n",
      "\n"
     ]
    },
    {
     "name": "stderr",
     "output_type": "stream",
     "text": [
      "D:\\Software\\Anaconda\\lib\\site-packages\\sklearn\\metrics\\_classification.py:1272: UndefinedMetricWarning: Precision and F-score are ill-defined and being set to 0.0 in labels with no predicted samples. Use `zero_division` parameter to control this behavior.\n",
      "  _warn_prf(average, modifier, msg_start, len(result))\n"
     ]
    }
   ],
   "source": [
    "#MLP Classifier\n",
    "from sklearn.neural_network import MLPClassifier\n",
    "  \n",
    "mlp = Pipeline([('vect', CountVectorizer()), ('tfidf', TfidfTransformer()), \n",
    "                ('clf', MLPClassifier(hidden_layer_sizes=(30,30,30)))])\n",
    "\n",
    "mlp.fit(X_train, y_train)\n",
    "y_pred = mlp.predict(X_test)\n",
    "\n",
    "print(\"Results of MLP Classifier\")\n",
    "print('accuracy %s' % accuracy_score(y_pred, y_test))\n",
    "print(classification_report(y_test, y_pred,target_names=flairs))"
   ]
  },
  {
   "cell_type": "markdown",
   "metadata": {},
   "source": [
    "### Storing Linear SVM Model because of it's less size (>500 MB models can't be deployed on Heroku)"
   ]
  },
  {
   "cell_type": "code",
   "execution_count": 10,
   "metadata": {},
   "outputs": [
    {
     "data": {
      "text/plain": [
       "['finalized_model.sav']"
      ]
     },
     "execution_count": 10,
     "metadata": {},
     "output_type": "execute_result"
    }
   ],
   "source": [
    "import joblib\n",
    "filename = 'finalized_model.sav'\n",
    "joblib.dump(sgd,filename)"
   ]
  }
 ],
 "metadata": {
  "kernelspec": {
   "display_name": "Python 3",
   "language": "python",
   "name": "python3"
  },
  "language_info": {
   "codemirror_mode": {
    "name": "ipython",
    "version": 3
   },
   "file_extension": ".py",
   "mimetype": "text/x-python",
   "name": "python",
   "nbconvert_exporter": "python",
   "pygments_lexer": "ipython3",
   "version": "3.7.6"
  }
 },
 "nbformat": 4,
 "nbformat_minor": 4
}
