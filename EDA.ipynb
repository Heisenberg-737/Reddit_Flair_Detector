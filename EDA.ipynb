{
 "cells": [
  {
   "cell_type": "code",
   "execution_count": 1,
   "metadata": {},
   "outputs": [],
   "source": [
    "import pandas as pd\n",
    "import numpy as np\n",
    "from collections import Counter\n",
    "import matplotlib.pyplot as plt\n",
    "import re"
   ]
  },
  {
   "cell_type": "code",
   "execution_count": 2,
   "metadata": {},
   "outputs": [],
   "source": [
    "data_tab = pd.read_csv('Reddit_Data.csv')"
   ]
  },
  {
   "cell_type": "code",
   "execution_count": 6,
   "metadata": {},
   "outputs": [
    {
     "data": {
      "text/html": [
       "<div>\n",
       "<style scoped>\n",
       "    .dataframe tbody tr th:only-of-type {\n",
       "        vertical-align: middle;\n",
       "    }\n",
       "\n",
       "    .dataframe tbody tr th {\n",
       "        vertical-align: top;\n",
       "    }\n",
       "\n",
       "    .dataframe thead th {\n",
       "        text-align: right;\n",
       "    }\n",
       "</style>\n",
       "<table border=\"1\" class=\"dataframe\">\n",
       "  <thead>\n",
       "    <tr style=\"text-align: right;\">\n",
       "      <th></th>\n",
       "      <th>flair</th>\n",
       "      <th>score</th>\n",
       "      <th>url</th>\n",
       "      <th>title</th>\n",
       "      <th>created</th>\n",
       "      <th>timestamp</th>\n",
       "    </tr>\n",
       "  </thead>\n",
       "  <tbody>\n",
       "    <tr>\n",
       "      <th>0</th>\n",
       "      <td>Non-Political</td>\n",
       "      <td>1</td>\n",
       "      <td>https://www.hints4you.com/2020/04/good-friday-...</td>\n",
       "      <td>Good Friday 2020 Special: How is Good Friday C...</td>\n",
       "      <td>1586456880</td>\n",
       "      <td>2020-04-09 23:58:00</td>\n",
       "    </tr>\n",
       "  </tbody>\n",
       "</table>\n",
       "</div>"
      ],
      "text/plain": [
       "           flair  score                                                url  \\\n",
       "0  Non-Political      1  https://www.hints4you.com/2020/04/good-friday-...   \n",
       "\n",
       "                                               title     created  \\\n",
       "0  Good Friday 2020 Special: How is Good Friday C...  1586456880   \n",
       "\n",
       "             timestamp  \n",
       "0  2020-04-09 23:58:00  "
      ]
     },
     "execution_count": 6,
     "metadata": {},
     "output_type": "execute_result"
    }
   ],
   "source": [
    "data_tab.head(1)"
   ]
  },
  {
   "cell_type": "code",
   "execution_count": 7,
   "metadata": {},
   "outputs": [
    {
     "name": "stdout",
     "output_type": "stream",
     "text": [
      "Non-Political :  312\n",
      "Coronavirus :  652\n",
      "Science/Technology :  36\n",
      "AskIndia :  260\n",
      "Politics :  174\n",
      "Policy/Economy :  28\n",
      "Business/Finance :  25\n"
     ]
    }
   ],
   "source": [
    "post_count = Counter(data_tab['flair'])\n",
    "for i in post_count.items():\n",
    "    print(i[0],': ',i[1])"
   ]
  },
  {
   "cell_type": "code",
   "execution_count": null,
   "metadata": {},
   "outputs": [],
   "source": [
    "topic_count = Counter(data_tab['flair'])\n",
    "numbers = [i for w,i in topic_count.items()]\n",
    "explode = [0.1 for i in range(len(numbers))]\n",
    "topics = [w for w,i in topic_count.items()]\n",
    "\n",
    "\n",
    "fig,axs = plt.subplots(figsize=(12,6))\n",
    "wedges, texts = axs.pie(x = numbers,explode=explode)\n",
    "axs.legend(wedges, topics,loc=\"center left\",bbox_to_anchor=(2, 0, 0.5, 1))\n",
    "axs.set_title('Flair Distribution',bbox={'facecolor':'0.8'})\n",
    "plt.show()"
   ]
  },
  {
   "cell_type": "code",
   "execution_count": null,
   "metadata": {},
   "outputs": [],
   "source": [
    "fig, axs = plt.subplots(figsize=(19,6))\n",
    "axs.bar(topics,numbers)\n",
    "plt.show()"
   ]
  },
  {
   "cell_type": "code",
   "execution_count": null,
   "metadata": {},
   "outputs": [],
   "source": []
  }
 ],
 "metadata": {
  "kernelspec": {
   "display_name": "Python 3",
   "language": "python",
   "name": "python3"
  },
  "language_info": {
   "codemirror_mode": {
    "name": "ipython",
    "version": 3
   },
   "file_extension": ".py",
   "mimetype": "text/x-python",
   "name": "python",
   "nbconvert_exporter": "python",
   "pygments_lexer": "ipython3",
   "version": "3.7.6"
  }
 },
 "nbformat": 4,
 "nbformat_minor": 4
}
